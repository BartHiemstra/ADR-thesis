{
  "cells": [
    {
      "cell_type": "code",
      "execution_count": null,
      "metadata": {
        "id": "WVa4_vUu-V97"
      },
      "outputs": [],
      "source": [
        "# Import relevant general libraries for (regex, time, dicts, math etc)\n",
        "import re\n",
        "import ast\n",
        "import datetime\n",
        "\n",
        "import numpy as np\n",
        "import pandas as pd\n",
        "\n",
        "from collections import defaultdict\n",
        "from datetime import timedelta\n",
        "from datetime import datetime\n",
        "from dateutil.relativedelta import relativedelta\n",
        "\n",
        "# NLTK stopwords\n",
        "import nltk\n",
        "nltk.download('stopwords')\n",
        "from nltk.corpus import stopwords\n",
        "\n",
        "# Transformer import\n",
        "from sentence_transformers import SentenceTransformer\n",
        "\n",
        "# Cosine and Euclidean distance metrics libraries\n",
        "from sklearn.metrics.pairwise import cosine_similarity\n",
        "from scipy.spatial.distance import cosine\n",
        "from scipy.spatial.distance import euclidean\n",
        "\n",
        "# Popular graphing and community detection libraries\n",
        "import networkx as nx\n",
        "import community.community_louvain as community_louvain\n",
        "\n",
        "# TFIDF vectorizer library\n",
        "from sklearn.feature_extraction.text import TfidfVectorizer\n",
        "\n",
        "# Graphing with matplotlib + Plotly\n",
        "import matplotlib as mpl\n",
        "import matplotlib.pyplot as plt\n",
        "import matplotlib.ticker as ticker\n",
        "import plotly.graph_objects as go\n",
        "\n",
        "## Colab Jupyter widgets\n",
        "from IPython.display import display\n",
        "from google.colab import output\n",
        "from ipywidgets import widgets"
      ]
    },
    {
      "cell_type": "code",
      "execution_count": null,
      "metadata": {
        "id": "zM4ySk4-TXiX"
      },
      "outputs": [],
      "source": [
        "stopwords_dutch = stopwords.words('dutch')"
      ]
    },
    {
      "cell_type": "code",
      "execution_count": null,
      "metadata": {
        "id": "5YO5KCFY-XFd"
      },
      "outputs": [],
      "source": [
        "# Load data sets.\n",
        "df_communities = pd.read_csv('df_communities.csv')\n",
        "df_text = pd.read_csv('kamers_text.csv')\n",
        "\n",
        "# Load the word embeddings as np array.\n",
        "embeddings = np.load('embeddings.npy')\n",
        "community_ids = np.load('community_ids.npy', allow_pickle=True)\n"
      ]
    },
    {
      "cell_type": "code",
      "execution_count": null,
      "metadata": {
        "id": "laTEYizmz8QY"
      },
      "outputs": [],
      "source": [
        "# Merge df_entities and df_kamers on the 'id' column\n",
        "merged_df = df_communities.merge(df_text[['id', 'text']], on='id', how='left')\n",
        "\n",
        "# The 'text' column from df_kamers is appended to df_entities\n",
        "df_communities['text'] = merged_df['text']"
      ]
    },
    {
      "cell_type": "code",
      "execution_count": null,
      "metadata": {
        "id": "zPXk-skp12kN"
      },
      "outputs": [],
      "source": [
        "# Make sure the date column is in Pandas DateTime\n",
        "df_communities['date'] = pd.to_datetime(df_communities['date'], errors='coerce', utc=True)\n",
        "df_communities['date'] = pd.to_datetime(df_communities['date']).dt.date"
      ]
    },
    {
      "cell_type": "code",
      "execution_count": null,
      "metadata": {
        "id": "fYfQa0-X9_lC"
      },
      "outputs": [],
      "source": [
        "# Keep only unique instances of documents for the embedding-based query search.\n",
        "df_unique = df_communities.drop_duplicates(subset='id', keep='first')"
      ]
    },
    {
      "cell_type": "code",
      "execution_count": null,
      "metadata": {
        "id": "sk3hwOdEiuim"
      },
      "outputs": [],
      "source": [
        "# Initialize the SentenceTransformer with which we can convert text into word embeddings\n",
        "model = SentenceTransformer('all-MiniLM-L6-v2')"
      ]
    },
    {
      "cell_type": "code",
      "execution_count": null,
      "metadata": {
        "id": "xFqzoYsROkc4"
      },
      "outputs": [],
      "source": [
        "# The search function which converts a search string into word embeddings and then finds distances to pre-calculated embeddings\n",
        "def search(query, num_results=5):\n",
        "    query_embedding = model.encode([query], convert_to_tensor=True).cpu().numpy()[0]\n",
        "    distances = [euclidean(query_embedding, embedding) for embedding in embeddings]\n",
        "    indices = np.argsort(distances)[:num_results]\n",
        "\n",
        "    # Get the community_ids corresponding to the closest embeddings\n",
        "    closest_communities = community_ids[indices]\n",
        "\n",
        "    return closest_communities"
      ]
    },
    {
      "cell_type": "code",
      "execution_count": null,
      "metadata": {
        "colab": {
          "base_uri": "https://localhost:8080/"
        },
        "id": "48Ed2F6tfVSt",
        "outputId": "baf28682-0eb3-4886-b5fa-d99ef0bb2fe2"
      },
      "outputs": [
        {
          "name": "stdout",
          "output_type": "stream",
          "text": [
            "['C527' 'C1497' 'C3346' 'C7539' 'C8965']\n"
          ]
        }
      ],
      "source": [
        "search_string = 'fraude'\n",
        "search_results = search(search_string, num_results=5)\n",
        "print(search_results)"
      ]
    },
    {
      "cell_type": "code",
      "execution_count": null,
      "metadata": {
        "id": "kTeSrwhm28K0"
      },
      "outputs": [],
      "source": [
        "##\n",
        "## Graph all communities together, with edges representing entity flow between communities of at least 1.0\n",
        "## More entity flow results in a higher edge weight.\n",
        "##\n",
        "\n",
        "# Initialize an empty Graph\n",
        "G_communities = nx.Graph()\n",
        "\n",
        "# Prepare a dictionary to store current community of each entity\n",
        "entity_current_community = {}\n",
        "\n",
        "# Loop through sorted dataframe and track community changes\n",
        "for _, row in df_communities.sort_values('date').iterrows():\n",
        "    entity, community = row['entity'], row['community']\n",
        "\n",
        "    # Check for community change\n",
        "    if entity in entity_current_community and entity_current_community[entity] != community:\n",
        "        # Get the previous community and current community as source and target\n",
        "        source = entity_current_community[entity]\n",
        "        target = community\n",
        "\n",
        "        if G_communities.has_edge(source, target):\n",
        "            # If the edge already exists, increase its weight\n",
        "            G_communities[source][target]['weight'] += 1\n",
        "        else:\n",
        "            # If the edge doesn't exist, add it with weight 1\n",
        "            G_communities.add_edge(source, target, weight=1)\n",
        "\n",
        "    # Update the current community of an entity\n",
        "    entity_current_community[entity] = community\n",
        "\n",
        "# Set custom amount of K based on network size.\n",
        "k = 4 / np.sqrt(G_communities.order())\n",
        "k *= 1.5"
      ]
    },
    {
      "cell_type": "code",
      "execution_count": null,
      "metadata": {
        "id": "a21SrXtn3Ela"
      },
      "outputs": [],
      "source": [
        "##\n",
        "## Perform personalized pagerank; seed nodes are assigned 1.0 after which a random walk algorithm\n",
        "## will indicate which nodes are frequently traversed, which can be used a measure of relevance for communities.\n",
        "## This way, additional relevant communities can be found.\n",
        "##\n",
        "\n",
        "# Create a personalization dict: assign each community a probability.\n",
        "# Communities in search_results are assigned a value of 1, others get value 0.\n",
        "personalization = {}\n",
        "for node in G_communities.nodes():\n",
        "    personalization[node] = 1.0 if node in search_results else 0.0\n",
        "\n",
        "# Ensure that at least one community in search_results exists in the graph.\n",
        "if sum(personalization.values()) == 0.0:\n",
        "    raise ValueError(\"None of the communities in search_results are in the graph.\")\n",
        "\n",
        "# Normalize the personalization dict (so it forms a valid probability distribution)\n",
        "total = sum(personalization.values())\n",
        "for node in personalization:\n",
        "    personalization[node] /= total\n",
        "\n",
        "# Perform the PageRank calculation\n",
        "pagerank_values = nx.pagerank(G_communities, personalization=personalization)"
      ]
    },
    {
      "cell_type": "code",
      "execution_count": null,
      "metadata": {
        "colab": {
          "base_uri": "https://localhost:8080/"
        },
        "id": "DT3M1xKy3Ixo",
        "outputId": "caaa2d5b-5136-474c-abfc-2d86ec33597e"
      },
      "outputs": [
        {
          "data": {
            "text/plain": [
              "[('C8965', 0.031690881497516775),\n",
              " ('C7539', 0.030796919772521813),\n",
              " ('C3346', 0.03059032835037983),\n",
              " ('C527', 0.030172028244745665),\n",
              " ('C585', 0.021191392115844112),\n",
              " ('C7323', 0.01637203392582316),\n",
              " ('C7576', 0.013884431995628612),\n",
              " ('C2176', 0.010090078811750227),\n",
              " ('C897', 0.009563170343816917),\n",
              " ('C3710', 0.009169387415982196),\n",
              " ('C353', 0.009031336955521704),\n",
              " ('C2542', 0.008932006461021814),\n",
              " ('C2678', 0.008738231639434466),\n",
              " ('C1027', 0.007265884451986602),\n",
              " ('C1523', 0.006915129946161994),\n",
              " ('C5927', 0.005743070247994699),\n",
              " ('C640', 0.005521322838273432),\n",
              " ('C224', 0.0048811737181798445),\n",
              " ('C7256', 0.0043930747723808315)]"
            ]
          },
          "execution_count": 16,
          "metadata": {},
          "output_type": "execute_result"
        }
      ],
      "source": [
        "# Sort the pagerank_values in descending order then display the top-20.\n",
        "sorted_pagerank_values = sorted(pagerank_values.items(), key=lambda item: item[1], reverse=True)\n",
        "sorted_pagerank_values[1:20]"
      ]
    },
    {
      "cell_type": "code",
      "execution_count": null,
      "metadata": {
        "id": "-Qg00g-r3N3c"
      },
      "outputs": [],
      "source": [
        "# Get the community names from sorted_pagerank_values\n",
        "community_names = [t[0] for t in sorted_pagerank_values]\n",
        "\n",
        "# Filter out the communities that are already in search_results\n",
        "border_communities = [name for name in community_names if name not in search_results]\n",
        "\n",
        "# Take the top five communities from filtered_communities\n",
        "top_5_border = border_communities[:5]\n",
        "\n",
        "# Concatenate search_results and top_5_border\n",
        "relevant_communities = np.concatenate((search_results, top_5_border))\n"
      ]
    },
    {
      "cell_type": "code",
      "execution_count": null,
      "metadata": {
        "colab": {
          "base_uri": "https://localhost:8080/"
        },
        "id": "hT12_lDrcc5E",
        "outputId": "e712cfa7-a193-4470-be22-d3f35eed78bd"
      },
      "outputs": [
        {
          "data": {
            "text/plain": [
              "array(['C527', 'C1497', 'C3346', 'C7539', 'C8965', 'C585', 'C7323',\n",
              "       'C7576', 'C2176', 'C897'], dtype=object)"
            ]
          },
          "execution_count": 18,
          "metadata": {},
          "output_type": "execute_result"
        }
      ],
      "source": [
        "relevant_communities"
      ]
    },
    {
      "cell_type": "code",
      "execution_count": null,
      "metadata": {
        "colab": {
          "base_uri": "https://localhost:8080/"
        },
        "id": "dj80GkjVcyqj",
        "outputId": "72c65c83-88b1-4cce-e321-0087527eb686"
      },
      "outputs": [
        {
          "name": "stdout",
          "output_type": "stream",
          "text": [
            "Community: C1497, Community Name: Zorggeld, Sjerp ndstkD, Document ID: a02b840e-6864-413e-8b9d-d9db5ce7eef3, Link: https://gegevensmagazijn.tweedekamer.nl/OData/v4/2.0/Document(a02b840e-6864-413e-8b9d-d9db5ce7eef3)/resource\n",
            "\n",
            "Community: C2176, Community Name: Van der Staaij, Van Gerven, Van Dekken, Document ID: 80b93820-c602-42bf-bf2b-8fbd3132aca0, Link: https://gegevensmagazijn.tweedekamer.nl/OData/v4/2.0/Document(80b93820-c602-42bf-bf2b-8fbd3132aca0)/resource\n",
            "\n",
            "Community: C2176, Community Name: Van der Staaij, Van Gerven, Van Dekken, Document ID: 12f924b1-6d3d-4d85-9201-b967bd73b8cb, Link: https://gegevensmagazijn.tweedekamer.nl/OData/v4/2.0/Document(12f924b1-6d3d-4d85-9201-b967bd73b8cb)/resource\n",
            "\n",
            "Community: C2176, Community Name: Van der Staaij, Van Gerven, Van Dekken, Document ID: 548c3041-50a1-4623-8893-c51b5f03d4f5, Link: https://gegevensmagazijn.tweedekamer.nl/OData/v4/2.0/Document(548c3041-50a1-4623-8893-c51b5f03d4f5)/resource\n",
            "\n",
            "Community: C3346, Community Name: Calibris, Deelconclusie, Mr. drs. Zosha, Document ID: e6efbcd3-bc7a-44e0-9d35-3e625e590b4b, Link: https://gegevensmagazijn.tweedekamer.nl/OData/v4/2.0/Document(e6efbcd3-bc7a-44e0-9d35-3e625e590b4b)/resource\n",
            "\n",
            "Community: C527, Community Name: Saskia J. Stuiveling, Ellen M. A. van Schoten, Document ID: 0c86f4cb-c4d9-4689-b3e0-b1ae89e2c088, Link: https://gegevensmagazijn.tweedekamer.nl/OData/v4/2.0/Document(0c86f4cb-c4d9-4689-b3e0-b1ae89e2c088)/resource\n",
            "\n",
            "Community: C585, Community Name: Van Veldhoven, Van Raak, Gesthuizen, Document ID: e6c7746d-c7ab-42a2-8768-e8bb7e0501fc, Link: https://gegevensmagazijn.tweedekamer.nl/OData/v4/2.0/Document(e6c7746d-c7ab-42a2-8768-e8bb7e0501fc)/resource\n",
            "\n",
            "Community: C585, Community Name: Van Veldhoven, Van Raak, Gesthuizen, Document ID: 34574485-3857-475e-912e-823121a22438, Link: https://gegevensmagazijn.tweedekamer.nl/OData/v4/2.0/Document(34574485-3857-475e-912e-823121a22438)/resource\n",
            "\n",
            "Community: C585, Community Name: Van Veldhoven, Van Raak, Gesthuizen, Document ID: 001ad10f-e3ef-4f91-a7d4-219a069c034c, Link: https://gegevensmagazijn.tweedekamer.nl/OData/v4/2.0/Document(001ad10f-e3ef-4f91-a7d4-219a069c034c)/resource\n",
            "\n",
            "Community: C7323, Community Name: Van der Staaij, Van KootenArissen, Van Nispen, Document ID: b6a23878-2138-4a77-a0ba-4372df5ec32a, Link: https://gegevensmagazijn.tweedekamer.nl/OData/v4/2.0/Document(b6a23878-2138-4a77-a0ba-4372df5ec32a)/resource\n",
            "\n",
            "Community: C7323, Community Name: Van der Staaij, Van KootenArissen, Van Nispen, Document ID: d50911fd-6a04-45ab-9701-07c00d6e7774, Link: https://gegevensmagazijn.tweedekamer.nl/OData/v4/2.0/Document(d50911fd-6a04-45ab-9701-07c00d6e7774)/resource\n",
            "\n",
            "Community: C7323, Community Name: Van der Staaij, Van KootenArissen, Van Nispen, Document ID: 4420e846-f870-4922-9ee1-6cade16318d4, Link: https://gegevensmagazijn.tweedekamer.nl/OData/v4/2.0/Document(4420e846-f870-4922-9ee1-6cade16318d4)/resource\n",
            "\n",
            "Community: C7539, Community Name: Toilagen, Accijnsgoederen, Zorgfraude, Document ID: f447210d-0564-46ab-927a-5d8f4822a242, Link: https://gegevensmagazijn.tweedekamer.nl/OData/v4/2.0/Document(f447210d-0564-46ab-927a-5d8f4822a242)/resource\n",
            "\n",
            "Community: C7576, Community Name: Twaz, Handhaafbaarheidstoets, T Aanbestedingskalender, Document ID: 93af5556-7dad-4254-8dce-33034114ec82, Link: https://gegevensmagazijn.tweedekamer.nl/OData/v4/2.0/Document(93af5556-7dad-4254-8dce-33034114ec82)/resource\n",
            "\n",
            "Community: C7576, Community Name: Twaz, Handhaafbaarheidstoets, T Aanbestedingskalender, Document ID: cdeb4fa4-4d3f-419e-8b7d-5fc177434d5f, Link: https://gegevensmagazijn.tweedekamer.nl/OData/v4/2.0/Document(cdeb4fa4-4d3f-419e-8b7d-5fc177434d5f)/resource\n",
            "\n",
            "Community: C8965, Community Name: Trendbreuk, Sepots, Sepot, Document ID: 00b0e14f-edac-491f-bccf-114fe0d710ce, Link: https://gegevensmagazijn.tweedekamer.nl/OData/v4/2.0/Document(00b0e14f-edac-491f-bccf-114fe0d710ce)/resource\n",
            "\n",
            "Community: C8965, Community Name: Trendbreuk, Sepots, Sepot, Document ID: 2d3bca73-23db-4aae-baf6-e5159ddff8bb, Link: https://gegevensmagazijn.tweedekamer.nl/OData/v4/2.0/Document(2d3bca73-23db-4aae-baf6-e5159ddff8bb)/resource\n",
            "\n",
            "Community: C8965, Community Name: Trendbreuk, Sepots, Sepot, Document ID: 46d3f622-8faa-44fa-a641-de21cc44bc0a, Link: https://gegevensmagazijn.tweedekamer.nl/OData/v4/2.0/Document(46d3f622-8faa-44fa-a641-de21cc44bc0a)/resource\n",
            "\n",
            "Community: C897, Community Name: Timmermans, Volgcommissie, Reeds, Document ID: 64d0bf6c-d47d-493f-b4db-710997d22d83, Link: https://gegevensmagazijn.tweedekamer.nl/OData/v4/2.0/Document(64d0bf6c-d47d-493f-b4db-710997d22d83)/resource\n",
            "\n",
            "Community: C897, Community Name: Timmermans, Volgcommissie, Reeds, Document ID: 90be0b35-2600-4765-a8b0-1f51133ed250, Link: https://gegevensmagazijn.tweedekamer.nl/OData/v4/2.0/Document(90be0b35-2600-4765-a8b0-1f51133ed250)/resource\n",
            "\n",
            "Community: C897, Community Name: Timmermans, Volgcommissie, Reeds, Document ID: 9cde79c6-125c-4104-82fb-d278434e45a9, Link: https://gegevensmagazijn.tweedekamer.nl/OData/v4/2.0/Document(9cde79c6-125c-4104-82fb-d278434e45a9)/resource\n",
            "\n"
          ]
        }
      ],
      "source": [
        "# Create a list of matched communities\n",
        "matched_communities = relevant_communities.tolist()\n",
        "\n",
        "# Filter the original DataFrame to only include documents from the matched communities\n",
        "filtered_df_unique = df_unique[df_unique['community'].isin(matched_communities)]\n",
        "\n",
        "top_communities = filtered_df_unique['community'].value_counts().index[:10]\n",
        "\n",
        "# Filter to include only the top 20 communities\n",
        "filtered_results_top_communities = filtered_df_unique[filtered_df_unique['community'].isin(top_communities)]\n",
        "\n",
        "# Fit and transform the text with TfidfVectorizer\n",
        "vectorizer = TfidfVectorizer(stop_words=stopwords_dutch)\n",
        "X = vectorizer.fit_transform(filtered_results_top_communities['text'])\n",
        "\n",
        "# Create a DataFrame with the TF-IDF scores\n",
        "df_tfidf = pd.DataFrame(X.toarray(), columns=vectorizer.get_feature_names_out(), index=filtered_results_top_communities['id'])\n",
        "\n",
        "# Add the community to the TF-IDF DataFrame\n",
        "df_tfidf['community'] = filtered_results_top_communities['community'].values\n",
        "\n",
        "# Compute a relevance score for each document as the sum of its TF-IDF scores\n",
        "df_tfidf['relevance_score'] = df_tfidf.drop(columns='community').sum(axis=1)\n",
        "\n",
        "# Get the top 3 most relevant documents in each community\n",
        "most_relevant_docs = df_tfidf.groupby('community')['relevance_score'].nlargest(3)\n",
        "\n",
        "# Convert the multi-index Series to a DataFrame and reset the index for easier processing\n",
        "most_relevant_docs = most_relevant_docs.to_frame().reset_index()\n",
        "\n",
        "# Print the document IDs and links\n",
        "for idx, row in most_relevant_docs.iterrows():\n",
        "    community, doc_id = row['community'], row['id']\n",
        "    community_name = df_communities.loc[df_communities['community'] == community, 'community_name'].values[0]\n",
        "    doc_link = f\"https://gegevensmagazijn.tweedekamer.nl/OData/v4/2.0/Document({doc_id})/resource\"\n",
        "\n",
        "    print(f\"Community: {community}, Community Name: {community_name}, Document ID: {doc_id}, Link: {doc_link}\\n\")\n"
      ]
    }
  ],
  "metadata": {
    "colab": {
      "machine_shape": "hm",
      "provenance": []
    },
    "kernelspec": {
      "display_name": "Python 3",
      "name": "python3"
    },
    "language_info": {
      "name": "python"
    }
  },
  "nbformat": 4,
  "nbformat_minor": 0
}
